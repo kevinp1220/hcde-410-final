{
 "cells": [
  {
   "cell_type": "markdown",
   "id": "104c7ff3-c517-4087-a7fc-0bfc6d8a9b3a",
   "metadata": {},
   "source": [
    "## Overview"
   ]
  },
  {
   "cell_type": "markdown",
   "id": "0d3f0426-e6f3-4bc2-8fbb-7d1ec6c35c84",
   "metadata": {},
   "source": [
    "This project will be exploring the effect sports teams' performances have on the overall happiness of the city and its citizenry of which the teams belong to. Does the happiness of a city/area correlate to the general success of the sports teams within it? While many factors can contribute to a city's overall happiness, it can be hypothesized that the more successful a sports team is, the more happy a city would be through a cultural lens. "
   ]
  },
  {
   "cell_type": "markdown",
   "id": "8376e67e-0547-4d0e-9ba6-6c84e199208a",
   "metadata": {},
   "source": [
    "## Motivation"
   ]
  },
  {
   "cell_type": "markdown",
   "id": "9884638e-ebf7-4eff-8ac2-2873c7d2fdfc",
   "metadata": {},
   "source": [
    " I've always enjoyed watching sports and observing sports culture in cities all across America and the world at large. Being able to find correlations between sports performance and happiness would not only be a good application of the data skills I've been developing here in HCDE 410 but would also be very interesting to me and something not only I would enjoy exploring, but others would enjoy seeing as well. I hope to learn about overall sports performance in cities around the US, overall happiness levels, and new things about teams and cities I'm not too familiar with. "
   ]
  },
  {
   "cell_type": "markdown",
   "id": "4df34d37-caeb-4b84-b2dc-c1921b28d1d5",
   "metadata": {},
   "source": [
    "## Data"
   ]
  },
  {
   "cell_type": "markdown",
   "id": "6a52a18b-951f-429a-b26d-b3301edb4ff2",
   "metadata": {},
   "source": [
    "The data sets I will be using are the data sets containing team data for the NBA, NFL, and MLB respectively as well as the World Happiness Report.  "
   ]
  },
  {
   "cell_type": "markdown",
   "id": "2355c9ec-2f41-413a-a27c-29aa84472cdf",
   "metadata": {},
   "source": [
    "* NBA Data Set: https://www.kaggle.com/datasets/sumitrodatta/nba-aba-baa-stats/data\n",
    "* NFL Data Set: https://www.kaggle.com/datasets/nickcantalupa/nfl-team-data-2003-2023\n",
    "* MLB Data Set: https://www.kaggle.com/datasets/timschutzyang/dataset1\n",
    "* World Happiness Report: https://www.kaggle.com/datasets/mathurinache/world-happiness-report"
   ]
  },
  {
   "cell_type": "markdown",
   "id": "fe0066fa-614e-4acf-b59a-f34bc1a26052",
   "metadata": {},
   "source": [
    "I'm focusing on team data as this would allow me to cross-reference the homes of the teams with corresponding cities in the happiness report. Since the data is largely public focusing on a sports franchise, privacy is not a major concern. "
   ]
  },
  {
   "cell_type": "markdown",
   "id": "f31a1623-aac2-4edc-9526-b8811f76a680",
   "metadata": {},
   "source": [
    "## Background"
   ]
  },
  {
   "cell_type": "markdown",
   "id": "463d89b3-d112-4dfe-accb-d8f04da6be6f",
   "metadata": {},
   "source": [
    "Much of the research done on the effect sports teams have on the cities they occupy is done through a more economic lens. This allows for many data points to be quantified a lot easier as economic fluctuations are metrics that are a lot easier to measure than a broad concept like \"happiness\". Research conducted at Coastal Carolina University highlights the various economic benefits a sports team introduces, and while economic success isn't the single pillar of happiness, the overall economic wellbeing of a city can definitely contribute to its happiness and the happiness of its people in a positive way. This research has lead me to think about other ways sports team allow cities to prosper and whether or not this prosperity should be taken into account in the research as another point of observation and analysis. Finding economic data that connects to each of the sports team could corroborate many of the findings attained from looking at the world happiness report. "
   ]
  },
  {
   "cell_type": "markdown",
   "id": "213a63b7-8f0c-4b1f-9ccc-19f705f6653d",
   "metadata": {},
   "source": [
    "## Methodology"
   ]
  },
  {
   "cell_type": "markdown",
   "id": "a05a1abf-183d-4166-80f1-3a5570a6dd5d",
   "metadata": {},
   "source": [
    "1. Investigating the Phenomenon\n",
    "\n",
    "* Defining Key Variables:\n",
    "  * Independent Variable: Team performance metrics (e.g., win/loss records, playoff appearances, championships).\n",
    "  * Dependent Variable: City happiness scores from the World Happiness Report.\n",
    "  * Control Variables: Economic indicators (GDP per capita, unemployment rates), other regional happiness indicators, and any relevant city demographic factors.\n",
    "* Data Preprocessing: Clean and align data across sports datasets and the World Happiness Report by city and time period. Check for missing data, especially in recent years, and consider methods like interpolation or exclusion if necessary.\n",
    "  \n",
    "2. Analytical Methods\n",
    "* Correlation Analysis: Perform Pearson or Spearman correlation tests to assess relationships between team performance metrics and city happiness scores.\n",
    "* Regression Analysis:\n",
    "  * Use Multiple Linear Regression to model the relationship between team performance and happiness, controlling for economic indicators and demographics.\n",
    "  * Consider Time-Series Analysis (e.g., ARIMA models) if you have yearly performance data, to explore trends over time.\n",
    "* Statistical Tests:\n",
    "  * Use t-tests or ANOVA to compare happiness scores for cities with varying levels of team success.\n",
    "\n",
    "3. Presentation of Findings\n",
    "* Data Visualizations:\n",
    "  * Correlation Heatmaps: Show relationships among team performance metrics, happiness scores, and economic indicators.\n",
    "  * Time Series Graphs: Display trends in happiness scores alongside team performance over time.\n",
    "  * Scatter Plots: Plot happiness scores against performance metrics, using different colors or markers for each league (NBA, NFL, MLB).\n",
    "* Tables:\n",
    "  * Present regression model outputs, including coefficients and p-values, to highlight significant relationships.\n",
    "* Summarize key statistical tests results to make comparisons between cities more digestible.\n",
    "  \n",
    "4. Justification for Methods\n",
    "* Correlation and Regression: These allow you to quantify and control for confounding variables, strengthening your ability to argue that any observed relationship between team success and happiness is meaningful.\n",
    "* Visualization Choices: Heatmaps and scatter plots can make complex relationships more understandable, while time series graphs provide context to changes over time."
   ]
  },
  {
   "cell_type": "markdown",
   "id": "5fbaf7f7-564a-4433-94ce-02fb2a782cf4",
   "metadata": {},
   "source": [
    "## Unknowns\n",
    "The largest unknown is seeing what other hidden variables can impact happiness that may affect the outcome of the findings. Additionally, there are more recent years missing in many of the data sets so the information may not be as pertinent. "
   ]
  }
 ],
 "metadata": {
  "kernelspec": {
   "display_name": "Python 3 (ipykernel)",
   "language": "python",
   "name": "python3"
  },
  "language_info": {
   "codemirror_mode": {
    "name": "ipython",
    "version": 3
   },
   "file_extension": ".py",
   "mimetype": "text/x-python",
   "name": "python",
   "nbconvert_exporter": "python",
   "pygments_lexer": "ipython3",
   "version": "3.10.13"
  }
 },
 "nbformat": 4,
 "nbformat_minor": 5
}
